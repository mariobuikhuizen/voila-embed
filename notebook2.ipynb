{
 "cells": [
  {
   "cell_type": "code",
   "execution_count": null,
   "metadata": {},
   "outputs": [],
   "source": [
    "import ipyvuetify as v\n",
    "lorum_ipsum = 'Lorem ipsum dolor sit amet, consectetur adipiscing elit, sed do eiusmod tempor incididunt ut labore et dolore magna aliqua. Ut enim ad minim veniam, quis nostrud exercitation ullamco laboris nisi ut aliquip ex ea commodo consequat. Duis aute irure dolor in reprehenderit in voluptate velit esse cillum dolore eu fugiat nulla pariatur. Excepteur sint occaecat cupidatat non proident, sunt in culpa qui officia deserunt mollit anim id est laborum.'"
   ]
  },
  {
   "cell_type": "code",
   "execution_count": null,
   "metadata": {},
   "outputs": [],
   "source": [
    "v.Layout(_metadata={'mount_id': 'dialog'}, children=[\n",
    "    v.Dialog(width='500', v_slots=[{\n",
    "        'name': 'activator',\n",
    "        'variable': 'x',\n",
    "        'children': v.Btn(v_on='x.on', color='success', dark=True, children=[\n",
    "            'Open dialog'\n",
    "        ]),\n",
    "    }], \n",
    "    children=[\n",
    "        v.Card(children=[\n",
    "            v.CardTitle(class_='headline gray lighten-2', primary_title=True, children=[\n",
    "                \"Lorem ipsum\"]),\n",
    "            v.CardText(children=[\n",
    "                lorum_ipsum])\n",
    "        ])\n",
    "    ])\n",
    "])"
   ]
  },
  {
   "cell_type": "code",
   "execution_count": null,
   "metadata": {},
   "outputs": [],
   "source": [
    "class EventDemo(v.Chip):\n",
    "\n",
    "    def __init__(self, **kwargs):\n",
    "        super().__init__(**kwargs)\n",
    "        self.class_ = 'px-2'\n",
    "        self.on_msg(self.handle_custom_message)\n",
    "        \n",
    "        self.nr_of_clicks = 0;\n",
    "        def on_click(widget, evemt, data):\n",
    "            self.nr_of_clicks += 1\n",
    "            self.children = [f'clicks {self.nr_of_clicks}']\n",
    "\n",
    "        self.on_event('click', on_click)\n",
    "\n",
    "    def handle_custom_message(self, _, content, buffers):\n",
    "        if 'type' in content.keys() and content['type'] == 'custom':\n",
    "            self.children=[f'{content[\"time\"]}']\n",
    "\n",
    "EventDemo(_metadata={'mount_id': 'event_demo'})"
   ]
  },
  {
   "cell_type": "code",
   "execution_count": null,
   "metadata": {},
   "outputs": [],
   "source": [
    "import traitlets\n",
    "class TemplateEventDemo(v.VuetifyTemplate):\n",
    "    _metadata = traitlets.Dict().tag(sync=True)\n",
    "    content = traitlets.Unicode('').tag(sync=True)\n",
    "    template = traitlets.Unicode('''\n",
    "        <v-chip @click=\"my_click()\" class=\"px-2\">{{ content }}</v-chip>\n",
    "    ''').tag(sync=True)\n",
    "\n",
    "    def vue_my_click(self, *args):\n",
    "        try:\n",
    "            self.nr_of_clicks += 1\n",
    "        except AttributeError:\n",
    "            self.nr_of_clicks = 1\n",
    "\n",
    "        self.content = f'clicks: {self.nr_of_clicks}'    \n",
    "\n",
    "TemplateEventDemo(_metadata={'mount_id': 'template_event_demo'})"
   ]
  },
  {
   "cell_type": "code",
   "execution_count": null,
   "metadata": {},
   "outputs": [],
   "source": []
  }
 ],
 "metadata": {
  "kernelspec": {
   "display_name": "Python 3",
   "language": "python",
   "name": "python3"
  },
  "language_info": {
   "codemirror_mode": {
    "name": "ipython",
    "version": 3
   },
   "file_extension": ".py",
   "mimetype": "text/x-python",
   "name": "python",
   "nbconvert_exporter": "python",
   "pygments_lexer": "ipython3",
   "version": "3.8.0"
  }
 },
 "nbformat": 4,
 "nbformat_minor": 2
}
